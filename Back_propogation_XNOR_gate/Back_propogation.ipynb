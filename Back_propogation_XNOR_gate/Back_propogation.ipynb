{
 "cells": [
  {
   "cell_type": "code",
   "execution_count": 1,
   "metadata": {},
   "outputs": [],
   "source": [
    "import numpy as np\n",
    "import matplotlib.pyplot as plt"
   ]
  },
  {
   "cell_type": "code",
   "execution_count": 2,
   "metadata": {},
   "outputs": [],
   "source": [
    "\"\"\"Creating training set\"\"\"\n",
    "def createTrain():\n",
    "    x = np.array([[1,0,0],[1,0,1],[1,1,0],[1,1,1]])\n",
    "    y = np.array([[1],[0],[0],[1]])\n",
    "    return x,y\n",
    "\n",
    "x_train, y_train = createTrain()\n",
    "epochs = 20000\n",
    "alpha = 0.05"
   ]
  },
  {
   "cell_type": "code",
   "execution_count": 3,
   "metadata": {},
   "outputs": [],
   "source": [
    "\"\"\"Sigmoid function\"\"\"\n",
    "def sigmoid(val):\n",
    "    val = np.array(val)\n",
    "    return 1 / (1 + np.exp(-val))\n",
    "\n",
    "\"\"\"forward Propogation\"\"\"\n",
    "def forwardProp(x_train, weight1, weight2):\n",
    "    activ1 = np.matmul(x_train,weight1)\n",
    "    temp_pred1 = sigmoid(activ1)\n",
    "    length = len(temp_pred1)\n",
    "    \n",
    "    temp_pred1 = np.concatenate((np.ones((length,1)),temp_pred1),axis = 1)\n",
    "    activ2 = np.matmul(temp_pred1,weight2)\n",
    "    temp_pred2 = sigmoid(activ2)\n",
    "    \n",
    "    return activ1, temp_pred1, activ2, temp_pred2\n",
    "    \n",
    "\"\"\"Backward Propogation\"\"\"\n",
    "def backwardProp(x_train, y_train, temp_pred1, temp_pred2, activ1, weight2):\n",
    "    secondDiff = temp_pred2 - y_train\n",
    "    secondDer = np.matmul(temp_pred1.T,secondDiff)\n",
    "    \n",
    "    tempWeight = weight2[1:,:].T\n",
    "    sig = sigmoid(activ1)\n",
    "    \n",
    "    firstDiff = (secondDiff.dot(tempWeight) * sig * (1 - sig))\n",
    "    firstDer = np.matmul(x_train.T,firstDiff)\n",
    "    \n",
    "    return secondDiff, secondDer, firstDer\n",
    "    \n",
    "\n",
    "\"\"\"Update weights\"\"\"\n",
    "def updateWeight(weight1, weight2, firstDer, secondDer, alpha, length):\n",
    "    weight1 = weight1 - ((alpha/length) * firstDer)\n",
    "    weight2 = weight2 - ((alpha/length) * secondDer)\n",
    "    return weight1, weight2\n",
    "\n",
    "\"\"\"ANN\"\"\"\n",
    "def ANN(x_train, y_train, epochs, alpha):\n",
    "    weight1 = np.random.randn(3,5)\n",
    "    weight2 = np.random.randn(6,1)\n",
    "    cost = list()\n",
    "    \n",
    "    for i in range(epochs):\n",
    "        activ1, temp_pred1, activ2, temp_pred2 = forwardProp(x_train, weight1, weight2)\n",
    "        secondDiff, secondDer, firstDer = backwardProp(x_train, y_train, temp_pred1, temp_pred2, activ1, weight2)\n",
    "        weight1, weight2 = updateWeight(weight1, weight2, firstDer, secondDer, alpha, len(x_train))\n",
    "        cost.append(np.mean(np.abs(secondDiff)))\n",
    "\n",
    "    return weight1, weight2, cost\n",
    "    \n",
    "\"\"\"Predict Function\"\"\"\n",
    "def predict(x_test,weight1,weight2):\n",
    "    activ1, pred1, activ2, y_pred = forwardProp(x_test, weight1, weight2)\n",
    "    return y_pred\n",
    "\n",
    "\"\"\"Calculate Accuracy\"\"\"\n",
    "def calcAcc(y_pred,y_test):\n",
    "    acc = np.sum(np.abs(np.round(y_pred) - y_test))\n",
    "    return ((len(y_pred) - acc)/len(y_pred) * 100)"
   ]
  },
  {
   "cell_type": "code",
   "execution_count": 4,
   "metadata": {},
   "outputs": [
    {
     "name": "stdout",
     "output_type": "stream",
     "text": [
      "The accuracy of our trained model is  100.0 %\n"
     ]
    },
    {
     "data": {
      "text/plain": [
       "Text(0, 0.5, 'Errors')"
      ]
     },
     "execution_count": 4,
     "metadata": {},
     "output_type": "execute_result"
    },
    {
     "data": {
      "image/png": "[encoded data removed]",
      "text/plain": [
       "<Figure size 648x648 with 1 Axes>"
      ]
     },
     "metadata": {
      "needs_background": "light"
     },
     "output_type": "display_data"
    }
   ],
   "source": [
    "weight1, weight2, cost = ANN(x_train, y_train, epochs, alpha)\n",
    "y_pred = predict(x_train,weight1,weight2)\n",
    "acc = calcAcc(y_pred,y_train)\n",
    "print(\"The accuracy of our trained model is \",acc,\"%\")\n",
    "plt.figure(figsize = (9,9))\n",
    "plt.plot(range(epochs),cost)\n",
    "plt.xlabel(\"Epochs\")\n",
    "plt.ylabel(\"Errors\")"
   ]
  }
 ],
 "metadata": {
  "kernelspec": {
   "display_name": "Python 3",
   "language": "python",
   "name": "python3"
  },
  "language_info": {
   "codemirror_mode": {
    "name": "ipython",
    "version": 3
   },
   "file_extension": ".py",
   "mimetype": "text/x-python",
   "name": "python",
   "nbconvert_exporter": "python",
   "pygments_lexer": "ipython3",
   "version": "3.7.6"
  }
 },
 "nbformat": 4,
 "nbformat_minor": 4
}
