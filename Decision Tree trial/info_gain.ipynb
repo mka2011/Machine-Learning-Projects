{
 "cells": [
  {
   "cell_type": "code",
   "execution_count": 2,
   "metadata": {},
   "outputs": [
    {
     "name": "stdout",
     "output_type": "stream",
     "text": [
      "The slope  1.0  has an entropy of :  0.46864686468646866\n",
      "The slope  2.0  has an entropy of :  0.46204620462046203\n",
      "The slope  3.0  has an entropy of :  0.06930693069306931\n",
      "The cumulative entropy is :  0.43792002962672505 \n",
      "The global entropy is :  0.9950837594929733 \n",
      "The gain is : 0.5571637298662483\n"
     ]
    }
   ],
   "source": [
    "\n",
    "import numpy as np\n",
    "import pandas as pd\n",
    "import math\n",
    "\n",
    "\"\"\"Function to find all unique slopes\"\"\"\n",
    "def getUniq(data,attr):\n",
    "    a = list()    \n",
    "    for i in data[attr]:\n",
    "        a.append(i)    \n",
    "    return(set(a))\n",
    "\n",
    "\"\"\"helper Function to calculate entropy\"\"\"\n",
    "def hValue(indivVal):\n",
    "    total = indivVal[0]\n",
    "    totalPos = indivVal[1]\n",
    "    totalNeg = indivVal[2]\n",
    "    hval1 = 0\n",
    "    if totalPos != 0:\n",
    "        hval1 = -(totalPos/total * math.log2(totalPos/total))\n",
    "    \n",
    "    if totalNeg != 0:\n",
    "        hval1 += -(totalNeg/total * math.log2(totalNeg/total))\n",
    "    \n",
    "    return hval1\n",
    "\n",
    "\"\"\"Calculating frequency of all slopes along with their positive and negative values\"\"\"\n",
    "def getInfoVals(data,uniqueVals,attr):\n",
    "    infoGainTemp = dict()\n",
    "    for i in uniqueVals:\n",
    "        temp = data[data[attr] == i]\n",
    "        totalPos = len(temp[temp[\"heart disease\"] == 1])\n",
    "        totalNeg = len(temp[temp[\"heart disease\"] == 0])\n",
    "        infoGainTemp[i] = [totalPos+totalNeg,totalPos,totalNeg]\n",
    "    \n",
    "    infoGain = dict()\n",
    "    for i in uniqueVals:\n",
    "        hval = hValue(infoGainTemp[i])\n",
    "        infoGain[i] = infoGainTemp[i][0]/data.shape[0]\n",
    "        \n",
    "    return infoGain,infoGainTemp\n",
    "\n",
    "\"\"\"Function to calculate entropy for all unique slopes\"\"\"\n",
    "def calcEntropy(infoGainVals,infoGainTemp,size):\n",
    "    entropy = 0\n",
    "    \n",
    "    for i in infoGainVals.keys() :\n",
    "        entropy += (infoGainTemp[i][0]/size) * infoGainVals[i]\n",
    "    return entropy\n",
    "\n",
    "\"\"\"Calculates gain\"\"\"\n",
    "def calcGain(globalEntropy,cumEntropy):\n",
    "    return globalEntropy - cumEntropy\n",
    "\n",
    "\"\"\"Calculates global entropy\"\"\"\n",
    "def calcGlobal(dataset):\n",
    "    pos = len(dataset[dataset[\"heart disease\"] == 1])\n",
    "    neg = len(dataset[dataset[\"heart disease\"] == 0])\n",
    "    return hValue([dataset.shape[0],pos,neg])\n",
    "\n",
    "\"\"\"Input dataset\"\"\"\n",
    "dataset = pd.read_csv(\"cleveland.csv\").iloc[:,[10,13]]\n",
    "dataset.columns = [\"slope\",\"heart disease\"]\n",
    "\n",
    "\"\"\"Calculate gain,individual as well as cumulative entropy and global entropy\"\"\"\n",
    "uniqueVals = getUniq(dataset,\"slope\")\n",
    "infoGainVals,infoGainTemp = getInfoVals(dataset,uniqueVals,\"slope\")\n",
    "cumEntropy = calcEntropy(infoGainVals,infoGainTemp,dataset.shape[0])\n",
    "globalEntropy = calcGlobal(dataset)\n",
    "gain = calcGain(globalEntropy,cumEntropy)\n",
    "\n",
    "\"\"\"Prints all the values\"\"\"\n",
    "for i in uniqueVals:\n",
    "    print(\"The slope \",i,\" has an entropy of : \",infoGainVals[i])\n",
    "\n",
    "print(\"The cumulative entropy is : \",cumEntropy,\"\\nThe global entropy is : \",globalEntropy,\"\\nThe gain is :\",gain)\n",
    "    \n",
    "    \n"
   ]
  },
  {
   "cell_type": "code",
   "execution_count": null,
   "metadata": {},
   "outputs": [],
   "source": []
  },
  {
   "cell_type": "code",
   "execution_count": null,
   "metadata": {},
   "outputs": [],
   "source": []
  }
 ],
 "metadata": {
  "kernelspec": {
   "display_name": "Python 3",
   "language": "python",
   "name": "python3"
  },
  "language_info": {
   "codemirror_mode": {
    "name": "ipython",
    "version": 3
   },
   "file_extension": ".py",
   "mimetype": "text/x-python",
   "name": "python",
   "nbconvert_exporter": "python",
   "pygments_lexer": "ipython3",
   "version": "3.7.6"
  }
 },
 "nbformat": 4,
 "nbformat_minor": 4
}
