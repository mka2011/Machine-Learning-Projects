{
 "cells": [
  {
   "cell_type": "code",
   "execution_count": 1,
   "metadata": {},
   "outputs": [],
   "source": [
    "import numpy as np\n",
    "import math\n",
    "import matplotlib.pyplot as plt"
   ]
  },
  {
   "cell_type": "code",
   "execution_count": 2,
   "metadata": {},
   "outputs": [],
   "source": [
    "trainSet = np.random.uniform(-1,1,(1500,2))"
   ]
  },
  {
   "cell_type": "code",
   "execution_count": 3,
   "metadata": {},
   "outputs": [],
   "source": [
    "alpha = 0.1\n",
    "sigma = 1\n",
    "epochs = 50000\n",
    "reduce = epochs/2\n",
    "weights = 2 * (np.random.ranf((10, 10, 2)) - 0.5) \n",
    "kohonenNet = np.zeros((10,10))\n",
    "neighX = np.array([0,1,2,3,4,5,6,7,8,9]) \n",
    "neighY = np.array([0,1,2,3,4,5,6,7,8,9])"
   ]
  },
  {
   "cell_type": "code",
   "execution_count": 4,
   "metadata": {},
   "outputs": [],
   "source": [
    "def bestNeuron(neuron,weights,kohonenNet):\n",
    "    s = np.subtract(neuron,weights)\n",
    "    for i in range(s.shape[0]):\n",
    "        for j in range(s.shape[1]):\n",
    "            kohonenNet[i][j] = np.sqrt(np.sum(s[i][j]**2))\n",
    "    return (np.unravel_index(kohonenNet.argmin(),kohonenNet.shape))\n",
    "\n",
    "def mexicanHatFunc(neighX,neighY,sigma2,neuronInd):\n",
    "    denom = 2 * np.pi * (sigma2**2) \n",
    "    xpoints = np.exp(-1 * np.square(neighX - neuronInd[0]) / denom) \n",
    "    ypoints = np.exp(-1 * np.square(neighY - neuronInd[1]) / denom) \n",
    "    neighPoints = np.outer(xpoints, ypoints) \n",
    "    return neighPoints\n",
    "\n",
    "def update(neuronInd,neuron,ite,reduce,neighX,neighY,weights,alpha,sigma):\n",
    "    alpha2 = alpha/(1 + ite / reduce) \n",
    "    sigma2 = sigma / (1 + ite / reduce) \n",
    "    \n",
    "    neighPoints = mexicanHatFunc(neighX,neighY,sigma2,neuronInd) \n",
    "    \n",
    "    iterator = np.nditer(neighPoints, flags = ['multi_index']) \n",
    "    while not iterator.finished :\n",
    "        weights[iterator.multi_index] += alpha2 * neighPoints[iterator.multi_index] * (neuron - weights[iterator.multi_index]) \n",
    "        iterator.iternext() \n",
    "    return weights\n",
    "\n",
    "def plotterFunc(weights):\n",
    "    xplt = list()\n",
    "    yplt = list()\n",
    "    for i in range(weights.shape[0]):\n",
    "        for j in range(weights.shape[1]):\n",
    "            xplt.append(weights[i][j][0])\n",
    "            yplt.append(weights[i][j][1])\n",
    "    plt.title('Distribution of neurons')\n",
    "    plt.scatter(xplt, yplt)\n",
    "    plt.show()\n",
    "    plt.close()\n",
    "\n",
    "def euclidean(coor,neuron):\n",
    "    return np.sqrt(np.sum((np.subtract(coor,neuron))**2))\n",
    "\n",
    "def testFunc(testSet):\n",
    "    for i in range(testSet.shape[0]): \n",
    "        neuron = bestNeuron(testSet[i],weights,kohonenNet)  \n",
    "        xCoor = weights[neuron[0]][neuron[1]][0]\n",
    "        yCoor = weights[neuron[0]][neuron[1]][1]\n",
    "        distance = euclidean(np.array([xCoor,yCoor]),testSet[i])\n",
    "        print(\"The acitvated neuron is : \",weights[neuron],\" and the distance from neuron is : \",distance)"
   ]
  },
  {
   "cell_type": "code",
   "execution_count": 5,
   "metadata": {},
   "outputs": [
    {
     "data": {
      "image/png": "[encoded data removed]",
      "text/plain": [
       "<Figure size 432x288 with 1 Axes>"
      ]
     },
     "metadata": {
      "needs_background": "light"
     },
     "output_type": "display_data"
    },
    {
     "name": "stdout",
     "output_type": "stream",
     "text": [
      "100 iterations completed\n",
      "1000 iterations completed\n",
      "10000 iterations completed\n",
      "20000 iterations completed\n",
      "30000 iterations completed\n",
      "40000 iterations completed\n",
      "50000 iterations completed\n"
     ]
    },
    {
     "data": {
      "image/png": "[encoded data removed]",
      "text/plain": [
       "<Figure size 432x288 with 1 Axes>"
      ]
     },
     "metadata": {
      "needs_background": "light"
     },
     "output_type": "display_data"
    }
   ],
   "source": [
    "plotterFunc(weights)\n",
    "for iteration in range(1, epochs + 1):\n",
    "    np.random.shuffle(trainSet)\n",
    "    ind = np.random.randint(0,1500)\n",
    "    index = bestNeuron(trainSet[ind],weights,kohonenNet)\n",
    "    weights = update(index,trainSet[ind],iteration,reduce,neighX,neighY,weights,alpha,sigma)\n",
    "    if iteration%10000 == 0 or iteration == 100 or iteration == 1000:\n",
    "        print(iteration,\"iterations completed\")\n",
    "plotterFunc(weights)"
   ]
  },
  {
   "cell_type": "code",
   "execution_count": 6,
   "metadata": {},
   "outputs": [
    {
     "name": "stdout",
     "output_type": "stream",
     "text": [
      "The acitvated neuron is :  [0.06460155 0.77201296]  and the distance from neuron is :  0.04512565317519476\n",
      "The acitvated neuron is :  [ 0.54213467 -0.20717315]  and the distance from neuron is :  0.04274090259380859\n",
      "The acitvated neuron is :  [-0.8673442  -0.83145361]  and the distance from neuron is :  0.09609291760527439\n",
      "The acitvated neuron is :  [-0.63003791  0.84936673]  and the distance from neuron is :  0.058872777006240856\n"
     ]
    }
   ],
   "source": [
    "testSet = np.array([[0.1, 0.8], [0.5, -0.2], [-0.8, -0.9], [-0.6, 0.9]])  \n",
    "testFunc(testSet)"
   ]
  },
  {
   "cell_type": "code",
   "execution_count": null,
   "metadata": {},
   "outputs": [],
   "source": []
  }
 ],
 "metadata": {
  "kernelspec": {
   "display_name": "Python 3",
   "language": "python",
   "name": "python3"
  },
  "language_info": {
   "codemirror_mode": {
    "name": "ipython",
    "version": 3
   },
   "file_extension": ".py",
   "mimetype": "text/x-python",
   "name": "python",
   "nbconvert_exporter": "python",
   "pygments_lexer": "ipython3",
   "version": "3.7.6"
  }
 },
 "nbformat": 4,
 "nbformat_minor": 4
}
